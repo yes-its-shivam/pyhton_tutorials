{
 "cells": [
  {
   "cell_type": "code",
   "execution_count": 6,
   "id": "051f89ba",
   "metadata": {},
   "outputs": [],
   "source": [
    "#JSON\n",
    "man= {}\n",
    "man['tom'] = {\n",
    "    'name':'tom',\n",
    "    'phone':463746378,\n",
    "    'address':'3894838 street'\n",
    "}\n",
    "\n",
    "man['bob'] = {\n",
    "    'name':'bob',\n",
    "    'phone':462113746378,\n",
    "    'address':'3894111838 street'\n",
    "}\n",
    "\n",
    "import json\n",
    "s=json.dumps(man)\n",
    "with open('C://Users//shiva//Desktop//new.txt','w') as f:\n",
    "    f.write(s)\n",
    "    \n",
    "f= open('C://Users//shiva//Desktop//new.txt','r')\n",
    "s=f.read()\n",
    "s\n",
    "     \n"
   ]
  },
  {
   "cell_type": "code",
   "execution_count": 1,
   "id": "df53e528",
   "metadata": {},
   "outputs": [
    {
     "ename": "UnicodeDecodeError",
     "evalue": "'charmap' codec can't decode byte 0x8d in position 364: character maps to <undefined>",
     "output_type": "error",
     "traceback": [
      "\u001b[1;31m---------------------------------------------------------------------------\u001b[0m",
      "\u001b[1;31mUnicodeDecodeError\u001b[0m                        Traceback (most recent call last)",
      "\u001b[1;32m<ipython-input-1-658952bae127>\u001b[0m in \u001b[0;36m<module>\u001b[1;34m\u001b[0m\n\u001b[0;32m      1\u001b[0m \u001b[0mf\u001b[0m \u001b[1;33m=\u001b[0m \u001b[0mopen\u001b[0m\u001b[1;33m(\u001b[0m\u001b[1;34m'C://Users//shiva//Desktop//projects//python_tut//datajson.txt'\u001b[0m\u001b[1;33m,\u001b[0m\u001b[1;34m'r'\u001b[0m\u001b[1;33m)\u001b[0m\u001b[1;33m\u001b[0m\u001b[1;33m\u001b[0m\u001b[0m\n\u001b[1;32m----> 2\u001b[1;33m \u001b[0ms\u001b[0m \u001b[1;33m=\u001b[0m \u001b[0mf\u001b[0m\u001b[1;33m.\u001b[0m\u001b[0mread\u001b[0m\u001b[1;33m(\u001b[0m\u001b[1;33m)\u001b[0m\u001b[1;33m\u001b[0m\u001b[1;33m\u001b[0m\u001b[0m\n\u001b[0m\u001b[0;32m      3\u001b[0m \u001b[0mdata\u001b[0m \u001b[1;33m=\u001b[0m \u001b[0mjson\u001b[0m\u001b[1;33m.\u001b[0m\u001b[0mloads\u001b[0m\u001b[1;33m(\u001b[0m\u001b[0ms\u001b[0m\u001b[1;33m)\u001b[0m\u001b[1;33m\u001b[0m\u001b[1;33m\u001b[0m\u001b[0m\n\u001b[0;32m      4\u001b[0m \u001b[0mdata\u001b[0m\u001b[1;33m\u001b[0m\u001b[1;33m\u001b[0m\u001b[0m\n",
      "\u001b[1;32m~\\anaconda3\\lib\\encodings\\cp1252.py\u001b[0m in \u001b[0;36mdecode\u001b[1;34m(self, input, final)\u001b[0m\n\u001b[0;32m     21\u001b[0m \u001b[1;32mclass\u001b[0m \u001b[0mIncrementalDecoder\u001b[0m\u001b[1;33m(\u001b[0m\u001b[0mcodecs\u001b[0m\u001b[1;33m.\u001b[0m\u001b[0mIncrementalDecoder\u001b[0m\u001b[1;33m)\u001b[0m\u001b[1;33m:\u001b[0m\u001b[1;33m\u001b[0m\u001b[1;33m\u001b[0m\u001b[0m\n\u001b[0;32m     22\u001b[0m     \u001b[1;32mdef\u001b[0m \u001b[0mdecode\u001b[0m\u001b[1;33m(\u001b[0m\u001b[0mself\u001b[0m\u001b[1;33m,\u001b[0m \u001b[0minput\u001b[0m\u001b[1;33m,\u001b[0m \u001b[0mfinal\u001b[0m\u001b[1;33m=\u001b[0m\u001b[1;32mFalse\u001b[0m\u001b[1;33m)\u001b[0m\u001b[1;33m:\u001b[0m\u001b[1;33m\u001b[0m\u001b[1;33m\u001b[0m\u001b[0m\n\u001b[1;32m---> 23\u001b[1;33m         \u001b[1;32mreturn\u001b[0m \u001b[0mcodecs\u001b[0m\u001b[1;33m.\u001b[0m\u001b[0mcharmap_decode\u001b[0m\u001b[1;33m(\u001b[0m\u001b[0minput\u001b[0m\u001b[1;33m,\u001b[0m\u001b[0mself\u001b[0m\u001b[1;33m.\u001b[0m\u001b[0merrors\u001b[0m\u001b[1;33m,\u001b[0m\u001b[0mdecoding_table\u001b[0m\u001b[1;33m)\u001b[0m\u001b[1;33m[\u001b[0m\u001b[1;36m0\u001b[0m\u001b[1;33m]\u001b[0m\u001b[1;33m\u001b[0m\u001b[1;33m\u001b[0m\u001b[0m\n\u001b[0m\u001b[0;32m     24\u001b[0m \u001b[1;33m\u001b[0m\u001b[0m\n\u001b[0;32m     25\u001b[0m \u001b[1;32mclass\u001b[0m \u001b[0mStreamWriter\u001b[0m\u001b[1;33m(\u001b[0m\u001b[0mCodec\u001b[0m\u001b[1;33m,\u001b[0m\u001b[0mcodecs\u001b[0m\u001b[1;33m.\u001b[0m\u001b[0mStreamWriter\u001b[0m\u001b[1;33m)\u001b[0m\u001b[1;33m:\u001b[0m\u001b[1;33m\u001b[0m\u001b[1;33m\u001b[0m\u001b[0m\n",
      "\u001b[1;31mUnicodeDecodeError\u001b[0m: 'charmap' codec can't decode byte 0x8d in position 364: character maps to <undefined>"
     ]
    }
   ],
   "source": [
    "# lassoLetter('A', 3) = 'D'\n",
    "def lassoLetter(letter, shiftAmount):\n",
    "    letterCode = ord(letter)\n",
    "\n",
    "    capACode = ord('A')\n",
    "    capZCode = ord('Z')\n",
    "    lowACode = ord('a')\n",
    "    lowZCode = ord('z')\n",
    "\n",
    "    alphabetSize = 26\n",
    "\n",
    "    if (letterCode >= capACode) & (letterCode <= capZCode):\n",
    "        begAlphaCode = capACode\n",
    "    else:\n",
    "        begAlphaCode = lowACode\n",
    "\n",
    "    decodedLetterCode = letterCode + shiftAmount\n",
    "\n",
    "    trueLetterCode = begAlphaCode + ((letterCode - begAlphaCode) + shiftAmount) % alphabetSize\n",
    "\n",
    "    decodedLetter = chr(trueLetterCode)\n",
    "\n",
    "    return decodedLetter\n",
    "    \n",
    "def lassoWord( word, shiftAmount):\n",
    "    decodedWord = \"\"\n",
    "\n",
    "    for letter in word:\n",
    "        decodedLetter = lassoLetter(letter, shiftAmount)\n",
    "\n",
    "        decodedWord += decodedLetter\n",
    "    \n",
    "    return decodedWord\n",
    "\n",
    "print(lassoWord(\"WHY\", 13))\n",
    "print(lassoWord(\"OsKzA\", -18))\n",
    "print(lassoWord(\"OHUpO\", -1))\n",
    "print(lassoWord(\"ed\", 25))"
   ]
  },
  {
   "cell_type": "code",
   "execution_count": 9,
   "id": "364489a2",
   "metadata": {},
   "outputs": [
    {
     "data": {
      "text/plain": [
       "{'tom': {'name': 'tom', 'phone': 463746378, 'address': '3894838 street'},\n",
       " 'bob': {'name': 'bob', 'phone': 462113746378, 'address': '3894111838 street'}}"
      ]
     },
     "execution_count": 9,
     "metadata": {},
     "output_type": "execute_result"
    }
   ],
   "source": [
    "f= open('C://Users//shiva//Desktop//new.txt','r')\n",
    "s=f.read()\n",
    "man = json.loads(s)\n",
    "man\n",
    "     "
   ]
  },
  {
   "cell_type": "code",
   "execution_count": 12,
   "id": "d28645b8",
   "metadata": {},
   "outputs": [
    {
     "name": "stdout",
     "output_type": "stream",
     "text": [
      "tom\n",
      "tom how are you?\n"
     ]
    }
   ],
   "source": [
    "#OOPS with python\n",
    "class human:\n",
    "    def __init__(self,n,w):\n",
    "        self.name=n\n",
    "        self.work = w\n",
    "    def do_work(self):\n",
    "        if self.work == 'tennis':\n",
    "            print(self.name)\n",
    "        elif self.work == 'actor':\n",
    "            print(self.name)\n",
    "    def speaks(self):\n",
    "        print(self.name,'how are you?')\n",
    "        \n",
    "tom = human('tom','actor')\n",
    "tom.do_work()\n",
    "tom.speaks()"
   ]
  },
  {
   "cell_type": "code",
   "execution_count": 41,
   "id": "cbf571b4",
   "metadata": {},
   "outputs": [
    {
     "name": "stdout",
     "output_type": "stream",
     "text": [
      "False 2\n",
      "general use: transportation\n",
      "commute to work\n",
      "None\n"
     ]
    },
    {
     "data": {
      "text/plain": [
       "(False, True)"
      ]
     },
     "execution_count": 41,
     "metadata": {},
     "output_type": "execute_result"
    }
   ],
   "source": [
    "#inheritance\n",
    "class vehicle:\n",
    "    def general_use(self):\n",
    "        print('general use: transportation')\n",
    "class car(vehicle):\n",
    "    def __init__(self):\n",
    "        self.wheels = 4\n",
    "        self.has_roof=True\n",
    "    \n",
    "    def specific_use(self):\n",
    "        self.general_use()\n",
    "        print('commute to work')\n",
    "        \n",
    "class bike(vehicle):\n",
    "    def __init__(self):\n",
    "        self.wheels = 2\n",
    "        self.has_roof=False\n",
    "    \n",
    "    def specific_use(self):\n",
    "        print('commute to college')\n",
    "\n",
    "b,c = bike(),car()\n",
    "print(b.has_roof,b.wheels)\n",
    "print(c.specific_use())\n",
    "\n",
    "isinstance(b,car),issubclass(car,vehicle)\n"
   ]
  },
  {
   "cell_type": "code",
   "execution_count": 58,
   "id": "82c00d7e",
   "metadata": {},
   "outputs": [
    {
     "name": "stdout",
     "output_type": "stream",
     "text": [
      "i love sports\n",
      "i enjoy cooking\n",
      "gardening\n",
      "cooking\n",
      "sports\n"
     ]
    }
   ],
   "source": [
    "#multiple inheritance\n",
    "class father:\n",
    "    def __init__(self,f):\n",
    "        self.name = f\n",
    "        \n",
    "    def gardening(self):\n",
    "        print('i enjoy Gardening')\n",
    "    def skills(self):\n",
    "        print('gardening')\n",
    "class mother:\n",
    "    def __init__(self,m):\n",
    "        self.name = m\n",
    "    def cook(self):\n",
    "        print('i enjoy cooking')\n",
    "    def skills(self):\n",
    "        print('cooking')\n",
    "        \n",
    "class child(father,mother):\n",
    "    def __init__(self,f,m):\n",
    "        self.father_name = f\n",
    "        self.mother_name = m\n",
    "        \n",
    "    def sports(self):\n",
    "        print('i love sports')\n",
    "    def skills(self):\n",
    "        skillset= []\n",
    "        father.skills(self)\n",
    "        mother.skills(self)\n",
    "        print('sports')\n",
    "        \n",
    "tom = father('tom')\n",
    "marry = mother('marry')\n",
    "bob = child('tom','marry')\n",
    "bob.sports()\n",
    "bob.cook()\n",
    "bob.skills()"
   ]
  },
  {
   "cell_type": "code",
   "execution_count": 3,
   "id": "6e5dbaa5",
   "metadata": {},
   "outputs": [
    {
     "name": "stdout",
     "output_type": "stream",
     "text": [
      "memory error\n"
     ]
    }
   ],
   "source": [
    "#exception builtin\n",
    "try:\n",
    "    raise MemoryError('memory error')\n",
    "except MemoryError as e:\n",
    "    print(e)"
   ]
  },
  {
   "cell_type": "code",
   "execution_count": 8,
   "id": "d752dc8b",
   "metadata": {},
   "outputs": [
    {
     "name": "stdout",
     "output_type": "stream",
     "text": [
      "user defined exception: car hits man\n"
     ]
    }
   ],
   "source": [
    "#exception user define\n",
    "#Exception is a builtin exception class hence inheritance is used\n",
    "class Accident(Exception):\n",
    "    def __init__(self,msg):\n",
    "        self.msg = msg\n",
    "    def print_exception(self):\n",
    "        print('user defined exception:',self.msg)\n",
    "        \n",
    "try:\n",
    "    raise Accident('car hits man')\n",
    "except Accident as e:\n",
    "    e.print_exception()\n",
    "    "
   ]
  },
  {
   "cell_type": "code",
   "execution_count": 15,
   "id": "263080f8",
   "metadata": {},
   "outputs": [
    {
     "name": "stdout",
     "output_type": "stream",
     "text": [
      "hey\n",
      "my\n",
      "name\n",
      "is\n",
      "xyz\n"
     ]
    },
    {
     "data": {
      "text/plain": [
       "('hey', 'my', 'name')"
      ]
     },
     "execution_count": 15,
     "metadata": {},
     "output_type": "execute_result"
    }
   ],
   "source": [
    "#iterators\n",
    "a = ['hey','my','name','is','xyz']\n",
    "for i in a:\n",
    "    print(i)\n",
    "dir(a)\n",
    "itr = iter(a)\n",
    "next(itr),next(itr),next(itr)\n"
   ]
  },
  {
   "cell_type": "code",
   "execution_count": 20,
   "id": "ac8ecaa7",
   "metadata": {},
   "outputs": [
    {
     "data": {
      "text/plain": [
       "('hbo', 'cnn', 'abc', 'espn')"
      ]
     },
     "execution_count": 20,
     "metadata": {},
     "output_type": "execute_result"
    }
   ],
   "source": [
    "#iterators\n",
    "class remotecontrol():\n",
    "    def __init__(self):\n",
    "        self.channel = ['hbo','cnn','abc','espn']\n",
    "        self.index = -1\n",
    "    \n",
    "    def __iter__(self):\n",
    "        return self\n",
    "    def __next__(self):\n",
    "        self.index += 1\n",
    "        if self.index == len(self.channel):\n",
    "            raise StopIteration\n",
    "        return self.channel[self.index]\n",
    "\n",
    "r = remotecontrol()\n",
    "itr = iter(r)\n",
    "next(itr),next(itr),next(itr),next(itr)"
   ]
  },
  {
   "cell_type": "code",
   "execution_count": 22,
   "id": "d685c49e",
   "metadata": {},
   "outputs": [
    {
     "data": {
      "text/plain": [
       "('cnn', 'espn')"
      ]
     },
     "execution_count": 22,
     "metadata": {},
     "output_type": "execute_result"
    }
   ],
   "source": [
    "#generators\n",
    "#use for creating iteraotrs\n",
    "\n",
    "def remote_control_next():\n",
    "    yield 'cnn'  #note tht return and yield are different yield takes care of what the previous state was \n",
    "    yield 'espn'\n",
    "\n",
    "itr = remote_control_next()\n",
    "next(itr),next(itr)\n"
   ]
  },
  {
   "cell_type": "code",
   "execution_count": 28,
   "id": "c9defcfb",
   "metadata": {},
   "outputs": [
    {
     "name": "stdout",
     "output_type": "stream",
     "text": [
      "0\n",
      "1\n",
      "1\n",
      "2\n",
      "3\n",
      "5\n",
      "8\n",
      "13\n"
     ]
    }
   ],
   "source": [
    "#generators \n",
    "def fib():\n",
    "    a= 0\n",
    "    b= 1\n",
    "    while True:\n",
    "        yield a\n",
    "        a,b = b, a+b\n",
    "        \n",
    "for f in fib():\n",
    "    if f> 15:\n",
    "        break\n",
    "    print(f)\n",
    "    "
   ]
  },
  {
   "cell_type": "code",
   "execution_count": 37,
   "id": "ec0d75d7",
   "metadata": {},
   "outputs": [
    {
     "data": {
      "text/plain": [
       "[1, 4, 9, 16, 25]"
      ]
     },
     "execution_count": 37,
     "metadata": {},
     "output_type": "execute_result"
    }
   ],
   "source": [
    "#list comprehension\n",
    "num = [1,2,3,4,5]\n",
    "sqr_num = [i**2 for i in num]\n",
    "sqr_num"
   ]
  },
  {
   "cell_type": "code",
   "execution_count": 50,
   "id": "4fb28502",
   "metadata": {},
   "outputs": [
    {
     "data": {
      "text/plain": [
       "{2, 4, 6, 8, 12}"
      ]
     },
     "execution_count": 50,
     "metadata": {},
     "output_type": "execute_result"
    }
   ],
   "source": [
    "#set comprehension\n",
    "# s = {9,1,2,3,4,5,5,3,3,4,5,8,6,4,12} #not recommended\n",
    "s = set([9,1,2,3,4,5,5,3,3,4,5,8,6])#recommended\n",
    "s.add(12)\n",
    "even = {i for i in s if i%2 ==0}\n",
    "even"
   ]
  },
  {
   "cell_type": "code",
   "execution_count": 46,
   "id": "ccbb2464",
   "metadata": {},
   "outputs": [
    {
     "data": {
      "text/plain": [
       "{'a': 'd', 'b': 'e', 'c': 'f'}"
      ]
     },
     "execution_count": 46,
     "metadata": {},
     "output_type": "execute_result"
    }
   ],
   "source": [
    "#dict comprehension\n",
    "cities = ['a','b','c']\n",
    "country = ['d','e','f']\n",
    "\n",
    "d ={i:j for i,j in zip(cities,country)}\n",
    "d"
   ]
  },
  {
   "cell_type": "code",
   "execution_count": 51,
   "id": "76ea95db",
   "metadata": {},
   "outputs": [
    {
     "data": {
      "text/plain": [
       "frozenset({1, 2, 3, 4, 5})"
      ]
     },
     "execution_count": 51,
     "metadata": {},
     "output_type": "execute_result"
    }
   ],
   "source": [
    "#frozenset\n",
    "#you can not add elements ,rest is same as set\n",
    "fs = frozenset([1,2,3,4,5,5,3,3,4])\n",
    "fs"
   ]
  },
  {
   "cell_type": "code",
   "execution_count": 82,
   "id": "bc054480",
   "metadata": {},
   "outputs": [
    {
     "name": "stdout",
     "output_type": "stream",
     "text": [
      "[1, 4, 9, 16, 25, 36, 49, 64, 81, 100, 121, 144, 169, 196, 225, 256, 289, 324, 361, 400, 441, 484, 529, 576, 625, 676, 729, 784, 841, 900, 961, 1024, 1089, 1156, 1225, 1296, 1369, 1444, 1521, 1600, 1681, 1764, 1849, 1936, 2025, 2116, 2209, 2304, 2401, 2500, 2601, 2704, 2809, 2916, 3025, 3136, 3249, 3364, 3481, 3600, 3721, 3844, 3969, 4096, 4225, 4356, 4489, 4624, 4761, 4900, 5041, 5184, 5329, 5476, 5625, 5776, 5929, 6084, 6241, 6400, 6561, 6724, 6889, 7056, 7225, 7396, 7569, 7744, 7921, 8100, 8281, 8464, 8649, 8836, 9025, 9216, 9409, 9604]\n",
      "sqr took 0.0 mili seconds \n"
     ]
    }
   ],
   "source": [
    "#decorators\n",
    "import time\n",
    "\n",
    "def time_it(func):\n",
    "    def wrapper(*args,**kwargs):\n",
    "        start = time.time()\n",
    "        result = func(*args,**kwargs)\n",
    "        end = time.time()\n",
    "        print(func.__name__+' took '+str((end-start)*1000)+' mili seconds ')\n",
    "        return result\n",
    "    return wrapper\n",
    "\n",
    "@time_it\n",
    "def sqr(num):\n",
    "    sqr_num = [i**2 for i in num]\n",
    "    print(sqr_num)\n",
    "\n",
    "arr = range(1,99)\n",
    "sqr(arr)\n"
   ]
  },
  {
   "cell_type": "code",
   "execution_count": 151,
   "id": "fb5640e0",
   "metadata": {},
   "outputs": [
    {
     "name": "stdout",
     "output_type": "stream",
     "text": [
      "[1, 4, 9, 16, 25, 36, 49, 64, 81, 100, 121, 144, 169, 196, 225, 256, 289, 324, 361, 400, 441, 484, 529, 576, 625, 676, 729, 784]\n",
      "[1, 8, 27, 64, 125, 216, 343, 512, 729, 1000, 1331, 1728, 2197, 2744, 3375, 4096, 4913, 5832, 6859, 8000, 9261, 10648, 12167, 13824, 15625, 17576, 19683, 21952]\n",
      " time taken  1015.5186653137207  mili secs\n"
     ]
    }
   ],
   "source": [
    "#MULTITHREADING\n",
    "#without multithreading with sleep\n",
    "def sqr(num):\n",
    "    sqr_num = [i**2 for i in num]\n",
    "    time.sleep(0.5)\n",
    "    print(sqr_num)\n",
    "    \n",
    "def cube(num):\n",
    "    cub_num = [i**3 for i in num]\n",
    "    time.sleep(0.5)\n",
    "    print(cub_num)\n",
    "    \n",
    "arr = range(1,29)\n",
    "t = time.time()\n",
    "sqr(arr)\n",
    "cube(arr)\n",
    "print(' time taken ',((time.time()-t)*1000),' mili secs')\n"
   ]
  },
  {
   "cell_type": "code",
   "execution_count": 148,
   "id": "855d48e5",
   "metadata": {},
   "outputs": [
    {
     "name": "stdout",
     "output_type": "stream",
     "text": [
      " sqr  cube   [1, 4, 9, 16, 25, 36, 49, 64, 81, 100, 121, 144, 169, 196, 225, 256, 289, 324, 361, 400, 441, 484, 529, 576, 625, 676, 729, 784, 841, 900, 961, 1024, 1089, 1156, 1225, 1296, 1369, 1444, 1521, 1600, 1681, 1764, 1849, 1936, 2025, 2116, 2209, 2304, 2401, 2500, 2601, 2704, 2809, 2916, 3025, 3136, 3249, 3364, 3481, 3600, 3721, 3844, 3969, 4096, 4225, 4356, 4489, 4624, 4761, 4900, 5041, 5184, 5329, 5476, 5625, 5776, 5929, 6084, 6241, 6400, 6561, 6724, 6889, 7056, 7225, 7396, 7569, 7744, 7921, 8100, 8281, 8464, 8649, 8836, 9025, 9216, 9409, 9604]\n",
      "[1, 8, 27, 64, 125, 216, 343, 512, 729, 1000, 1331, 1728, 2197, 2744, 3375, 4096, 4913, 5832, 6859, 8000, 9261, 10648, 12167, 13824, 15625, 17576, 19683, 21952, 24389, 27000, 29791, 32768, 35937, 39304, 42875, 46656, 50653, 54872, 59319, 64000, 68921, 74088, 79507, 85184, 91125, 97336, 103823, 110592, 117649, 125000, 132651, 140608, 148877, 157464, 166375, 175616, 185193, 195112, 205379, 216000, 226981, 238328, 250047, 262144, 274625, 287496, 300763, 314432, 328509, 343000, 357911, 373248, 389017, 405224, 421875, 438976, 456533, 474552, 493039, 512000, 531441, 551368, 571787, 592704, 614125, 636056, 658503, 681472, 704969, 729000, 753571, 778688, 804357, 830584, 857375, 884736, 912673, 941192]\n",
      " time taken  511.11412048339844  mili secs\n"
     ]
    }
   ],
   "source": [
    "#with multithreading with sleep\n",
    "#with multi threading the time is alnost halved\n",
    "import threading\n",
    "import time\n",
    "def sqr(num):\n",
    "    sqr_num = [i**2 for i in num]\n",
    "    time.sleep(0.5)\n",
    "    print(' sqr ',sqr_num)\n",
    "    \n",
    "def cube(num):\n",
    "    cub_num = [i**3 for i in num]\n",
    "    time.sleep(0.5)\n",
    "    print(' cube ',cub_num)\n",
    "\n",
    "arr = range(1,99)\n",
    "t = time.time()\n",
    "\n",
    "t1 = threading.Thread(target =sqr,args = (arr,))\n",
    "t2 = threading.Thread(target = cube,args = (arr,))\n",
    "\n",
    "t1.start()\n",
    "t2.start()\n",
    "\n",
    "t1.join()\n",
    "t2.join()\n",
    "\n",
    "print(' time taken ',((time.time()-t)*1000),' mili secs')\n"
   ]
  },
  {
   "cell_type": "code",
   "execution_count": 25,
   "id": "dc06dc46",
   "metadata": {},
   "outputs": [
    {
     "name": "stdout",
     "output_type": "stream",
     "text": [
      " sqr outside []\n",
      "cub outside  []\n",
      " time taken  121.97542190551758  mili secs\n"
     ]
    }
   ],
   "source": [
    "#multiprocessing\n",
    "import multiprocessing\n",
    "import time\n",
    "\n",
    "sqr_num = []\n",
    "cub_num = []\n",
    "def sqr(num):\n",
    "    global sqr_num \n",
    "    sqr_num = [i**2 for i in num]\n",
    "    time.sleep(0.5)\n",
    "    print(' sqr inside the process ',sqr_num)\n",
    "    \n",
    "def cube(num):\n",
    "    global cub_num \n",
    "    cub_num = [i**3 for i in num]\n",
    "    time.sleep(0.5)\n",
    "    print(' cube inside the process '+str(cub_num))\n",
    "\n",
    "if __name__ == \"__main__\":\n",
    "    arr = range(1,16)\n",
    "    t = time.time()\n",
    "    \n",
    "    p1 = multiprocessing.Process(target =sqr,args = (arr,))\n",
    "    p2 = multiprocessing.Process(target = cube,args = (arr,))\n",
    "\n",
    "    p1.start()\n",
    "    p2.start()\n",
    "\n",
    "    p1.join()\n",
    "    p2.join()\n",
    "\n",
    "#     sqr(arr)\n",
    "#     cube(arr)\n",
    "    print(' sqr outside',sqr_num)\n",
    "    print('cub outside ',cub_num)\n",
    "\n",
    "    print(' time taken ',((time.time()-t)*1000),' mili secs')\n"
   ]
  }
 ],
 "metadata": {
  "kernelspec": {
   "display_name": "Python 3",
   "language": "python",
   "name": "python3"
  },
  "language_info": {
   "codemirror_mode": {
    "name": "ipython",
    "version": 3
   },
   "file_extension": ".py",
   "mimetype": "text/x-python",
   "name": "python",
   "nbconvert_exporter": "python",
   "pygments_lexer": "ipython3",
   "version": "3.8.8"
  }
 },
 "nbformat": 4,
 "nbformat_minor": 5
}
